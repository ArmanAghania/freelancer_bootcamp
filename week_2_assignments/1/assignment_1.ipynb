{
 "cells": [
  {
   "cell_type": "code",
   "execution_count": 1,
   "metadata": {},
   "outputs": [],
   "source": [
    "import requests\n",
    "from bs4 import BeautifulSoup\n",
    "import json\n",
    "import pandas as pd\n"
   ]
  },
  {
   "cell_type": "code",
   "execution_count": 2,
   "metadata": {},
   "outputs": [],
   "source": [
    "def extract_webpage_info(url):\n",
    "    response = requests.get(url)\n",
    "\n",
    "    soup = BeautifulSoup(response.content, \"html.parser\")\n",
    "\n",
    "    title = soup.title.string if soup.title else \"No Title Found\"\n",
    "\n",
    "    links = [a[\"href\"] for a in soup.find_all(\"a\", href=True)]\n",
    "\n",
    "    headers = {}\n",
    "    for i in range(1, 7):\n",
    "        headers[f\"h{i}\"] = [h.get_text() for h in soup.find_all(f\"h{i}\")]\n",
    "\n",
    "    return {\"Title\": title, \"Links\": links, \"Headers\": headers}"
   ]
  },
  {
   "cell_type": "code",
   "execution_count": 6,
   "metadata": {},
   "outputs": [],
   "source": [
    "url = input(\"Enter the URL to scrape: \")\n",
    "webpage_info = extract_webpage_info(url)\n",
    "\n",
    "with open(\n",
    "    \"webpage_data.json\", \"w\", encoding=\"utf-8\"\n",
    ") as file:\n",
    "    json.dump(webpage_info, file, ensure_ascii=False, indent=4)"
   ]
  },
  {
   "cell_type": "code",
   "execution_count": 7,
   "metadata": {},
   "outputs": [],
   "source": [
    "with open(\n",
    "    \"webpage_data.json\", \"r\", encoding=\"utf-8\"\n",
    ") as file:\n",
    "    data = json.load(file)\n",
    "\n",
    "if isinstance(data, dict):\n",
    "    web_df = pd.json_normalize(data)\n",
    "else:\n",
    "    web_df = pd.DataFrame(data)"
   ]
  },
  {
   "cell_type": "code",
   "execution_count": 34,
   "metadata": {},
   "outputs": [],
   "source": [
    "page_links =  web_df['Links'][0]\n",
    "\n",
    "link_series = pd.Series(page_links).astype(str)"
   ]
  },
  {
   "cell_type": "code",
   "execution_count": 35,
   "metadata": {},
   "outputs": [
    {
     "data": {
      "text/plain": [
       "0                      https://www.tgju.org/applications\n",
       "1         https://cafebazaar.ir/app/com.vandaw.tgju?l=en\n",
       "2              https://www.tgju.org/applications/#ios-dl\n",
       "3                      https://www.tgju.org/applications\n",
       "4                                                      .\n",
       "                             ...                        \n",
       "593                              https://m.me/TgjuSocial\n",
       "594    https://slack.com/oauth/v2/authorize?client_id...\n",
       "595                           https://wa.me/989981911511\n",
       "597                                                    #\n",
       "601                                                    #\n",
       "Length: 597, dtype: object"
      ]
     },
     "execution_count": 35,
     "metadata": {},
     "output_type": "execute_result"
    }
   ],
   "source": [
    "link_series = link_series.drop(link_series[link_series.str.contains('javascript')].index)\n",
    "link_series"
   ]
  },
  {
   "cell_type": "code",
   "execution_count": 36,
   "metadata": {},
   "outputs": [
    {
     "data": {
      "text/plain": [
       "0       True\n",
       "1       True\n",
       "2       True\n",
       "3       True\n",
       "4      False\n",
       "       ...  \n",
       "593     True\n",
       "594     True\n",
       "595     True\n",
       "597    False\n",
       "601    False\n",
       "Length: 597, dtype: bool"
      ]
     },
     "execution_count": 36,
     "metadata": {},
     "output_type": "execute_result"
    }
   ],
   "source": [
    "link_series.str.contains('https')"
   ]
  },
  {
   "cell_type": "code",
   "execution_count": 37,
   "metadata": {},
   "outputs": [],
   "source": [
    "clean_links = link_series[link_series.str.contains('https')]\n"
   ]
  },
  {
   "cell_type": "code",
   "execution_count": 38,
   "metadata": {},
   "outputs": [],
   "source": [
    "clean_links.dropna(inplace=True)"
   ]
  },
  {
   "cell_type": "code",
   "execution_count": 42,
   "metadata": {},
   "outputs": [],
   "source": [
    "clean_links = clean_links.reindex()"
   ]
  },
  {
   "cell_type": "code",
   "execution_count": 48,
   "metadata": {},
   "outputs": [
    {
     "data": {
      "text/plain": [
       "154"
      ]
     },
     "execution_count": 48,
     "metadata": {},
     "output_type": "execute_result"
    }
   ],
   "source": [
    "len(clean_links)"
   ]
  },
  {
   "cell_type": "code",
   "execution_count": 23,
   "metadata": {},
   "outputs": [
    {
     "data": {
      "text/html": [
       "<div>\n",
       "<style scoped>\n",
       "    .dataframe tbody tr th:only-of-type {\n",
       "        vertical-align: middle;\n",
       "    }\n",
       "\n",
       "    .dataframe tbody tr th {\n",
       "        vertical-align: top;\n",
       "    }\n",
       "\n",
       "    .dataframe thead th {\n",
       "        text-align: right;\n",
       "    }\n",
       "</style>\n",
       "<table border=\"1\" class=\"dataframe\">\n",
       "  <thead>\n",
       "    <tr style=\"text-align: right;\">\n",
       "      <th></th>\n",
       "      <th>Title</th>\n",
       "      <th>Links</th>\n",
       "      <th>Headers.h1</th>\n",
       "      <th>Headers.h2</th>\n",
       "      <th>Headers.h3</th>\n",
       "      <th>Headers.h4</th>\n",
       "      <th>Headers.h5</th>\n",
       "      <th>Headers.h6</th>\n",
       "    </tr>\n",
       "  </thead>\n",
       "  <tbody>\n",
       "    <tr>\n",
       "      <th>0</th>\n",
       "      <td>سکه امامی - شبکه اطلاع رسانی طلا و ارز</td>\n",
       "      <td>[https://www.tgju.org/applications, https://ca...</td>\n",
       "      <td>[]</td>\n",
       "      <td>[اپلیکیشن, تاریخچه سکه امامی,  آیا مایلید از ن...</td>\n",
       "      <td>[]</td>\n",
       "      <td>[]</td>\n",
       "      <td>[دلار, یورو, پوند, انس طلا, مثقال, طلای 18, طل...</td>\n",
       "      <td>[قیمت طلا,  قیمت سکه, نرخ ارز, قیمت دلار, ارزه...</td>\n",
       "    </tr>\n",
       "  </tbody>\n",
       "</table>\n",
       "</div>"
      ],
      "text/plain": [
       "                                    Title  \\\n",
       "0  سکه امامی - شبکه اطلاع رسانی طلا و ارز   \n",
       "\n",
       "                                               Links Headers.h1  \\\n",
       "0  [https://www.tgju.org/applications, https://ca...         []   \n",
       "\n",
       "                                          Headers.h2 Headers.h3 Headers.h4  \\\n",
       "0  [اپلیکیشن, تاریخچه سکه امامی,  آیا مایلید از ن...         []         []   \n",
       "\n",
       "                                          Headers.h5  \\\n",
       "0  [دلار, یورو, پوند, انس طلا, مثقال, طلای 18, طل...   \n",
       "\n",
       "                                          Headers.h6  \n",
       "0  [قیمت طلا,  قیمت سکه, نرخ ارز, قیمت دلار, ارزه...  "
      ]
     },
     "execution_count": 23,
     "metadata": {},
     "output_type": "execute_result"
    }
   ],
   "source": [
    "web_df"
   ]
  },
  {
   "cell_type": "code",
   "execution_count": 24,
   "metadata": {},
   "outputs": [
    {
     "data": {
      "text/plain": [
       "['اپلیکیشن', 'تاریخچه سکه امامی', ' آیا مایلید از نوسانات بازار آگاه شوید؟ ']"
      ]
     },
     "execution_count": 24,
     "metadata": {},
     "output_type": "execute_result"
    }
   ],
   "source": [
    "web_df['Headers.h2'][0]"
   ]
  },
  {
   "cell_type": "code",
   "execution_count": 25,
   "metadata": {},
   "outputs": [
    {
     "data": {
      "text/plain": [
       "0                                    اپلیکیشن\n",
       "1                           تاریخچه سکه امامی\n",
       "2     آیا مایلید از نوسانات بازار آگاه شوید؟ \n",
       "dtype: object"
      ]
     },
     "execution_count": 25,
     "metadata": {},
     "output_type": "execute_result"
    }
   ],
   "source": [
    "header_2_series = pd.Series(web_df['Headers.h2'][0])\n",
    "header_2_series"
   ]
  },
  {
   "cell_type": "code",
   "execution_count": 27,
   "metadata": {},
   "outputs": [
    {
     "data": {
      "text/plain": [
       "0          دلار\n",
       "1          یورو\n",
       "2          پوند\n",
       "3       انس طلا\n",
       "4         مثقال\n",
       "5       طلای 18\n",
       "6       طلای 24\n",
       "7         آبشده\n",
       "8     سکه امامی\n",
       "9           نیم\n",
       "10          ربع\n",
       "11         گرمی\n",
       "12     نفت برنت\n",
       "13     بیت کوین\n",
       "14       اتریوم\n",
       "15          تتر\n",
       "dtype: object"
      ]
     },
     "execution_count": 27,
     "metadata": {},
     "output_type": "execute_result"
    }
   ],
   "source": [
    "header_5_series = pd.Series(web_df['Headers.h5'][0])\n",
    "header_5_series"
   ]
  },
  {
   "cell_type": "code",
   "execution_count": 28,
   "metadata": {},
   "outputs": [
    {
     "data": {
      "text/plain": [
       "0          قیمت طلا\n",
       "1          قیمت سکه\n",
       "2           نرخ ارز\n",
       "3         قیمت دلار\n",
       "4    ارزهای دیجیتال\n",
       "5    بورس و فرابورس\n",
       "6       بازار جهانی\n",
       "7       بازار داخلی\n",
       "dtype: object"
      ]
     },
     "execution_count": 28,
     "metadata": {},
     "output_type": "execute_result"
    }
   ],
   "source": [
    "header_6_series = pd.Series(web_df['Headers.h6'][0])\n",
    "header_6_series"
   ]
  },
  {
   "cell_type": "code",
   "execution_count": 44,
   "metadata": {},
   "outputs": [
    {
     "data": {
      "text/plain": [
       "0    سکه امامی - شبکه اطلاع رسانی طلا و ارز\n",
       "Name: Title, dtype: object"
      ]
     },
     "execution_count": 44,
     "metadata": {},
     "output_type": "execute_result"
    }
   ],
   "source": [
    "title_series = pd.Series(web_df['Title'])\n",
    "\n",
    "title_series"
   ]
  },
  {
   "cell_type": "code",
   "execution_count": 49,
   "metadata": {},
   "outputs": [
    {
     "data": {
      "text/plain": [
       "0                      https://www.tgju.org/applications\n",
       "1         https://cafebazaar.ir/app/com.vandaw.tgju?l=en\n",
       "2              https://www.tgju.org/applications/#ios-dl\n",
       "3                      https://www.tgju.org/applications\n",
       "6      https://myportal.errantetrading.net/marketing/...\n",
       "                             ...                        \n",
       "591                                https://t.me/tgjunews\n",
       "592                         https://t.me/TGJU_Supportbot\n",
       "593                              https://m.me/TgjuSocial\n",
       "594    https://slack.com/oauth/v2/authorize?client_id...\n",
       "595                           https://wa.me/989981911511\n",
       "Length: 154, dtype: object"
      ]
     },
     "execution_count": 49,
     "metadata": {},
     "output_type": "execute_result"
    }
   ],
   "source": [
    "clean_links"
   ]
  },
  {
   "cell_type": "code",
   "execution_count": 51,
   "metadata": {},
   "outputs": [
    {
     "data": {
      "text/html": [
       "<div>\n",
       "<style scoped>\n",
       "    .dataframe tbody tr th:only-of-type {\n",
       "        vertical-align: middle;\n",
       "    }\n",
       "\n",
       "    .dataframe tbody tr th {\n",
       "        vertical-align: top;\n",
       "    }\n",
       "\n",
       "    .dataframe thead th {\n",
       "        text-align: right;\n",
       "    }\n",
       "</style>\n",
       "<table border=\"1\" class=\"dataframe\">\n",
       "  <thead>\n",
       "    <tr style=\"text-align: right;\">\n",
       "      <th></th>\n",
       "      <th>Title</th>\n",
       "      <th>Links</th>\n",
       "      <th>Header_2</th>\n",
       "      <th>Header_5</th>\n",
       "      <th>Header_6</th>\n",
       "    </tr>\n",
       "  </thead>\n",
       "  <tbody>\n",
       "    <tr>\n",
       "      <th>0</th>\n",
       "      <td>سکه امامی - شبکه اطلاع رسانی طلا و ارز</td>\n",
       "      <td>https://www.tgju.org/applications</td>\n",
       "      <td>اپلیکیشن</td>\n",
       "      <td>دلار</td>\n",
       "      <td>قیمت طلا</td>\n",
       "    </tr>\n",
       "    <tr>\n",
       "      <th>1</th>\n",
       "      <td>NaN</td>\n",
       "      <td>https://cafebazaar.ir/app/com.vandaw.tgju?l=en</td>\n",
       "      <td>تاریخچه سکه امامی</td>\n",
       "      <td>یورو</td>\n",
       "      <td>قیمت سکه</td>\n",
       "    </tr>\n",
       "    <tr>\n",
       "      <th>2</th>\n",
       "      <td>NaN</td>\n",
       "      <td>https://www.tgju.org/applications/#ios-dl</td>\n",
       "      <td>آیا مایلید از نوسانات بازار آگاه شوید؟</td>\n",
       "      <td>پوند</td>\n",
       "      <td>نرخ ارز</td>\n",
       "    </tr>\n",
       "    <tr>\n",
       "      <th>3</th>\n",
       "      <td>NaN</td>\n",
       "      <td>https://www.tgju.org/applications</td>\n",
       "      <td>NaN</td>\n",
       "      <td>انس طلا</td>\n",
       "      <td>قیمت دلار</td>\n",
       "    </tr>\n",
       "    <tr>\n",
       "      <th>6</th>\n",
       "      <td>NaN</td>\n",
       "      <td>https://myportal.errantetrading.net/marketing/...</td>\n",
       "      <td>NaN</td>\n",
       "      <td>طلای 24</td>\n",
       "      <td>بازار جهانی</td>\n",
       "    </tr>\n",
       "    <tr>\n",
       "      <th>...</th>\n",
       "      <td>...</td>\n",
       "      <td>...</td>\n",
       "      <td>...</td>\n",
       "      <td>...</td>\n",
       "      <td>...</td>\n",
       "    </tr>\n",
       "    <tr>\n",
       "      <th>11</th>\n",
       "      <td>NaN</td>\n",
       "      <td>NaN</td>\n",
       "      <td>NaN</td>\n",
       "      <td>گرمی</td>\n",
       "      <td>NaN</td>\n",
       "    </tr>\n",
       "    <tr>\n",
       "      <th>12</th>\n",
       "      <td>NaN</td>\n",
       "      <td>NaN</td>\n",
       "      <td>NaN</td>\n",
       "      <td>نفت برنت</td>\n",
       "      <td>NaN</td>\n",
       "    </tr>\n",
       "    <tr>\n",
       "      <th>13</th>\n",
       "      <td>NaN</td>\n",
       "      <td>NaN</td>\n",
       "      <td>NaN</td>\n",
       "      <td>بیت کوین</td>\n",
       "      <td>NaN</td>\n",
       "    </tr>\n",
       "    <tr>\n",
       "      <th>14</th>\n",
       "      <td>NaN</td>\n",
       "      <td>NaN</td>\n",
       "      <td>NaN</td>\n",
       "      <td>اتریوم</td>\n",
       "      <td>NaN</td>\n",
       "    </tr>\n",
       "    <tr>\n",
       "      <th>15</th>\n",
       "      <td>NaN</td>\n",
       "      <td>NaN</td>\n",
       "      <td>NaN</td>\n",
       "      <td>تتر</td>\n",
       "      <td>NaN</td>\n",
       "    </tr>\n",
       "  </tbody>\n",
       "</table>\n",
       "<p>164 rows × 5 columns</p>\n",
       "</div>"
      ],
      "text/plain": [
       "                                     Title  \\\n",
       "0   سکه امامی - شبکه اطلاع رسانی طلا و ارز   \n",
       "1                                      NaN   \n",
       "2                                      NaN   \n",
       "3                                      NaN   \n",
       "6                                      NaN   \n",
       "..                                     ...   \n",
       "11                                     NaN   \n",
       "12                                     NaN   \n",
       "13                                     NaN   \n",
       "14                                     NaN   \n",
       "15                                     NaN   \n",
       "\n",
       "                                                Links  \\\n",
       "0                   https://www.tgju.org/applications   \n",
       "1      https://cafebazaar.ir/app/com.vandaw.tgju?l=en   \n",
       "2           https://www.tgju.org/applications/#ios-dl   \n",
       "3                   https://www.tgju.org/applications   \n",
       "6   https://myportal.errantetrading.net/marketing/...   \n",
       "..                                                ...   \n",
       "11                                                NaN   \n",
       "12                                                NaN   \n",
       "13                                                NaN   \n",
       "14                                                NaN   \n",
       "15                                                NaN   \n",
       "\n",
       "                                    Header_2  Header_5     Header_6  \n",
       "0                                   اپلیکیشن      دلار     قیمت طلا  \n",
       "1                          تاریخچه سکه امامی      یورو     قیمت سکه  \n",
       "2    آیا مایلید از نوسانات بازار آگاه شوید؟       پوند      نرخ ارز  \n",
       "3                                        NaN   انس طلا    قیمت دلار  \n",
       "6                                        NaN   طلای 24  بازار جهانی  \n",
       "..                                       ...       ...          ...  \n",
       "11                                       NaN      گرمی          NaN  \n",
       "12                                       NaN  نفت برنت          NaN  \n",
       "13                                       NaN  بیت کوین          NaN  \n",
       "14                                       NaN    اتریوم          NaN  \n",
       "15                                       NaN       تتر          NaN  \n",
       "\n",
       "[164 rows x 5 columns]"
      ]
     },
     "execution_count": 51,
     "metadata": {},
     "output_type": "execute_result"
    }
   ],
   "source": [
    "df = pd.concat([title_series, clean_links, header_2_series, header_5_series, header_6_series], axis=1)\n",
    "df.columns = ['Title', 'Links', 'Header_2', 'Header_5', 'Header_6']\n",
    "df"
   ]
  },
  {
   "cell_type": "code",
   "execution_count": 52,
   "metadata": {},
   "outputs": [],
   "source": [
    "json_str = df.to_json(orient='records', force_ascii=False)\n",
    "with open(\"combined_series.json\", \"w\", encoding=\"utf-8\") as file:\n",
    "    file.write(json_str)"
   ]
  }
 ],
 "metadata": {
  "kernelspec": {
   "display_name": "venv",
   "language": "python",
   "name": "python3"
  },
  "language_info": {
   "codemirror_mode": {
    "name": "ipython",
    "version": 3
   },
   "file_extension": ".py",
   "mimetype": "text/x-python",
   "name": "python",
   "nbconvert_exporter": "python",
   "pygments_lexer": "ipython3",
   "version": "3.11.5"
  }
 },
 "nbformat": 4,
 "nbformat_minor": 2
}
