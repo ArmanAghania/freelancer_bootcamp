{
 "cells": [
  {
   "cell_type": "code",
   "execution_count": 1,
   "metadata": {},
   "outputs": [],
   "source": [
    "import pandas as pd"
   ]
  },
  {
   "cell_type": "code",
   "execution_count": 2,
   "metadata": {},
   "outputs": [
    {
     "data": {
      "text/html": [
       "<div>\n",
       "<style scoped>\n",
       "    .dataframe tbody tr th:only-of-type {\n",
       "        vertical-align: middle;\n",
       "    }\n",
       "\n",
       "    .dataframe tbody tr th {\n",
       "        vertical-align: top;\n",
       "    }\n",
       "\n",
       "    .dataframe thead th {\n",
       "        text-align: right;\n",
       "    }\n",
       "</style>\n",
       "<table border=\"1\" class=\"dataframe\">\n",
       "  <thead>\n",
       "    <tr style=\"text-align: right;\">\n",
       "      <th></th>\n",
       "      <th>code</th>\n",
       "      <th>country</th>\n",
       "      <th>currency</th>\n",
       "      <th>flag_image_url</th>\n",
       "      <th>symbol</th>\n",
       "    </tr>\n",
       "  </thead>\n",
       "  <tbody>\n",
       "    <tr>\n",
       "      <th>0</th>\n",
       "      <td>ALL</td>\n",
       "      <td>Albania</td>\n",
       "      <td>Lek</td>\n",
       "      <td>https://www.currencyremitapp.com/wp-content/th...</td>\n",
       "      <td>Lek</td>\n",
       "    </tr>\n",
       "    <tr>\n",
       "      <th>1</th>\n",
       "      <td>AFN</td>\n",
       "      <td>Afghanistan</td>\n",
       "      <td>Afghani</td>\n",
       "      <td>https://www.currencyremitapp.com/wp-content/th...</td>\n",
       "      <td>؋</td>\n",
       "    </tr>\n",
       "    <tr>\n",
       "      <th>2</th>\n",
       "      <td>ARS</td>\n",
       "      <td>Argentina</td>\n",
       "      <td>Peso</td>\n",
       "      <td>https://www.currencyremitapp.com/wp-content/th...</td>\n",
       "      <td>$</td>\n",
       "    </tr>\n",
       "    <tr>\n",
       "      <th>3</th>\n",
       "      <td>AWG</td>\n",
       "      <td>Aruba</td>\n",
       "      <td>Guilder</td>\n",
       "      <td>https://www.currencyremitapp.com/wp-content/th...</td>\n",
       "      <td>ƒ</td>\n",
       "    </tr>\n",
       "    <tr>\n",
       "      <th>4</th>\n",
       "      <td>AUD</td>\n",
       "      <td>Australia</td>\n",
       "      <td>Dollar</td>\n",
       "      <td>https://www.currencyremitapp.com/wp-content/th...</td>\n",
       "      <td>$</td>\n",
       "    </tr>\n",
       "    <tr>\n",
       "      <th>...</th>\n",
       "      <td>...</td>\n",
       "      <td>...</td>\n",
       "      <td>...</td>\n",
       "      <td>...</td>\n",
       "      <td>...</td>\n",
       "    </tr>\n",
       "    <tr>\n",
       "      <th>107</th>\n",
       "      <td>UZS</td>\n",
       "      <td>Uzbekistan</td>\n",
       "      <td>Som</td>\n",
       "      <td>https://www.currencyremitapp.com/wp-content/th...</td>\n",
       "      <td>лв</td>\n",
       "    </tr>\n",
       "    <tr>\n",
       "      <th>108</th>\n",
       "      <td>VEF</td>\n",
       "      <td>Venezuela</td>\n",
       "      <td>Bolivar Fuerte</td>\n",
       "      <td>https://www.currencyremitapp.com/wp-content/th...</td>\n",
       "      <td>Bs</td>\n",
       "    </tr>\n",
       "    <tr>\n",
       "      <th>109</th>\n",
       "      <td>VND</td>\n",
       "      <td>Viet Nam</td>\n",
       "      <td>Dong</td>\n",
       "      <td>https://www.currencyremitapp.com/wp-content/th...</td>\n",
       "      <td>₫</td>\n",
       "    </tr>\n",
       "    <tr>\n",
       "      <th>110</th>\n",
       "      <td>YER</td>\n",
       "      <td>Yemen</td>\n",
       "      <td>Rial</td>\n",
       "      <td>https://www.currencyremitapp.com/wp-content/th...</td>\n",
       "      <td>﷼</td>\n",
       "    </tr>\n",
       "    <tr>\n",
       "      <th>111</th>\n",
       "      <td>ZWD</td>\n",
       "      <td>Zimbabwe</td>\n",
       "      <td>Dollar</td>\n",
       "      <td>https://www.currencyremitapp.com/wp-content/th...</td>\n",
       "      <td>Z$</td>\n",
       "    </tr>\n",
       "  </tbody>\n",
       "</table>\n",
       "<p>112 rows × 5 columns</p>\n",
       "</div>"
      ],
      "text/plain": [
       "    code      country        currency  \\\n",
       "0    ALL      Albania             Lek   \n",
       "1    AFN  Afghanistan         Afghani   \n",
       "2    ARS    Argentina            Peso   \n",
       "3    AWG        Aruba         Guilder   \n",
       "4    AUD    Australia          Dollar   \n",
       "..   ...          ...             ...   \n",
       "107  UZS   Uzbekistan             Som   \n",
       "108  VEF    Venezuela  Bolivar Fuerte   \n",
       "109  VND     Viet Nam            Dong   \n",
       "110  YER        Yemen            Rial   \n",
       "111  ZWD     Zimbabwe          Dollar   \n",
       "\n",
       "                                        flag_image_url symbol  \n",
       "0    https://www.currencyremitapp.com/wp-content/th...    Lek  \n",
       "1    https://www.currencyremitapp.com/wp-content/th...      ؋  \n",
       "2    https://www.currencyremitapp.com/wp-content/th...      $  \n",
       "3    https://www.currencyremitapp.com/wp-content/th...      ƒ  \n",
       "4    https://www.currencyremitapp.com/wp-content/th...      $  \n",
       "..                                                 ...    ...  \n",
       "107  https://www.currencyremitapp.com/wp-content/th...     лв  \n",
       "108  https://www.currencyremitapp.com/wp-content/th...     Bs  \n",
       "109  https://www.currencyremitapp.com/wp-content/th...      ₫  \n",
       "110  https://www.currencyremitapp.com/wp-content/th...      ﷼  \n",
       "111  https://www.currencyremitapp.com/wp-content/th...     Z$  \n",
       "\n",
       "[112 rows x 5 columns]"
      ]
     },
     "execution_count": 2,
     "metadata": {},
     "output_type": "execute_result"
    }
   ],
   "source": [
    "df = pd.read_csv(\"output.csv\")  \n",
    "df"
   ]
  },
  {
   "cell_type": "code",
   "execution_count": 7,
   "metadata": {},
   "outputs": [
    {
     "name": "stdout",
     "output_type": "stream",
     "text": [
      "<class 'pandas.core.frame.DataFrame'>\n",
      "RangeIndex: 112 entries, 0 to 111\n",
      "Data columns (total 5 columns):\n",
      " #   Column          Non-Null Count  Dtype \n",
      "---  ------          --------------  ----- \n",
      " 0   code            112 non-null    object\n",
      " 1   country         112 non-null    object\n",
      " 2   currency        112 non-null    object\n",
      " 3   flag_image_url  112 non-null    object\n",
      " 4   symbol          112 non-null    object\n",
      "dtypes: object(5)\n",
      "memory usage: 4.5+ KB\n"
     ]
    }
   ],
   "source": [
    "df.info()"
   ]
  },
  {
   "cell_type": "code",
   "execution_count": 8,
   "metadata": {},
   "outputs": [
    {
     "data": {
      "text/plain": [
       "code              112\n",
       "country           112\n",
       "currency           62\n",
       "flag_image_url    112\n",
       "symbol             62\n",
       "dtype: int64"
      ]
     },
     "execution_count": 8,
     "metadata": {},
     "output_type": "execute_result"
    }
   ],
   "source": [
    "df.nunique()"
   ]
  },
  {
   "cell_type": "code",
   "execution_count": null,
   "metadata": {},
   "outputs": [],
   "source": []
  }
 ],
 "metadata": {
  "kernelspec": {
   "display_name": "venv",
   "language": "python",
   "name": "python3"
  },
  "language_info": {
   "codemirror_mode": {
    "name": "ipython",
    "version": 3
   },
   "file_extension": ".py",
   "mimetype": "text/x-python",
   "name": "python",
   "nbconvert_exporter": "python",
   "pygments_lexer": "ipython3",
   "version": "3.11.5"
  }
 },
 "nbformat": 4,
 "nbformat_minor": 2
}
